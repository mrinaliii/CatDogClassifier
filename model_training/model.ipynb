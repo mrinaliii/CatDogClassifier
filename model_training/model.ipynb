{
 "cells": [
  {
   "cell_type": "code",
   "execution_count": 1,
   "id": "0ccb072a-d464-4d6e-8578-524182818b12",
   "metadata": {},
   "outputs": [],
   "source": [
    "import os\n",
    "import matplotlib.pyplot as plt\n",
    "from tensorflow.keras.preprocessing.image import ImageDataGenerator\n",
    "from tensorflow.keras.models import Sequential\n",
    "from tensorflow.keras.layers import Conv2D, MaxPooling2D, Flatten, Dense"
   ]
  },
  {
   "cell_type": "code",
   "execution_count": 2,
   "id": "9f4743a2-1023-4dfb-85d5-db35f5c0474b",
   "metadata": {},
   "outputs": [],
   "source": [
    "baseDir = r\"C:\\Users\\MRINALI\\Desktop\\CatVsDog\\data_split\"\n",
    "trainDir = os.path.join(baseDir, \"train\")\n",
    "valDir = os.path.join(baseDir, \"val\")\n",
    "testDir = os.path.join(baseDir, \"test\")\n"
   ]
  },
  {
   "cell_type": "code",
   "execution_count": 3,
   "id": "e096ac13-bbc6-42e6-bbd3-c8958430c009",
   "metadata": {},
   "outputs": [
    {
     "name": "stdout",
     "output_type": "stream",
     "text": [
      "Train exists: True\n",
      "Val exists: True\n",
      "Test exists: True\n"
     ]
    }
   ],
   "source": [
    "print(\"Train exists:\", os.path.exists(trainDir))\n",
    "print(\"Val exists:\", os.path.exists(valDir))\n",
    "print(\"Test exists:\", os.path.exists(testDir))"
   ]
  },
  {
   "cell_type": "code",
   "execution_count": 4,
   "id": "4a5e0f26-3ec9-4153-84cf-0c1192156770",
   "metadata": {},
   "outputs": [],
   "source": [
    "imageSize = (150, 150)\n",
    "batchSize = 32"
   ]
  },
  {
   "cell_type": "code",
   "execution_count": 5,
   "id": "73bd9860-6468-4511-8696-254fceea8ebf",
   "metadata": {},
   "outputs": [],
   "source": [
    "datagen = ImageDataGenerator(rescale=1./255)"
   ]
  },
  {
   "cell_type": "code",
   "execution_count": 6,
   "id": "d08efff6-067e-4330-aa5e-971c4342a72a",
   "metadata": {},
   "outputs": [
    {
     "name": "stdout",
     "output_type": "stream",
     "text": [
      "Found 17498 images belonging to 2 classes.\n"
     ]
    }
   ],
   "source": [
    "trainGenerator = datagen.flow_from_directory(\n",
    "    trainDir,\n",
    "    target_size=imageSize,\n",
    "    batch_size=batchSize,\n",
    "    class_mode='binary'\n",
    ")\n"
   ]
  },
  {
   "cell_type": "code",
   "execution_count": 7,
   "id": "1d35fe83-887e-466a-9608-dd4ede786a45",
   "metadata": {},
   "outputs": [
    {
     "name": "stdout",
     "output_type": "stream",
     "text": [
      "Found 3750 images belonging to 2 classes.\n"
     ]
    }
   ],
   "source": [
    "valGenerator = datagen.flow_from_directory(\n",
    "    valDir,\n",
    "    target_size=imageSize,\n",
    "    batch_size=batchSize,\n",
    "    class_mode='binary'\n",
    ")"
   ]
  },
  {
   "cell_type": "code",
   "execution_count": 11,
   "id": "70006789-fd1c-4887-8e07-19a961b17323",
   "metadata": {},
   "outputs": [],
   "source": [
    "model = Sequential([\n",
    "    Conv2D(32, (3, 3), activation='relu', input_shape=(150, 150, 3)),\n",
    "    MaxPooling2D(2, 2),\n",
    "\n",
    "    Conv2D(64, (3, 3), activation='relu'),\n",
    "    MaxPooling2D(2, 2),\n",
    "\n",
    "    Conv2D(128, (3, 3), activation='relu'),\n",
    "    MaxPooling2D(2, 2),\n",
    "\n",
    "    Flatten(),\n",
    "    Dense(512, activation='relu'),\n",
    "    Dense(1, activation='sigmoid')  # Binary classification\n",
    "])\n"
   ]
  },
  {
   "cell_type": "code",
   "execution_count": 12,
   "id": "fe1d5292-1f06-4271-a7ed-5e05e92ee193",
   "metadata": {},
   "outputs": [],
   "source": [
    "model.compile(optimizer='adam',\n",
    "              loss='binary_crossentropy',\n",
    "              metrics=['accuracy'])\n"
   ]
  },
  {
   "cell_type": "code",
   "execution_count": 13,
   "id": "7bf10913-95a9-47c2-9032-e9f0e0740063",
   "metadata": {},
   "outputs": [
    {
     "name": "stderr",
     "output_type": "stream",
     "text": [
      "C:\\Users\\MRINALI\\AppData\\Local\\Programs\\Python\\Python310\\lib\\site-packages\\keras\\src\\trainers\\data_adapters\\py_dataset_adapter.py:121: UserWarning: Your `PyDataset` class should call `super().__init__(**kwargs)` in its constructor. `**kwargs` can include `workers`, `use_multiprocessing`, `max_queue_size`. Do not pass these arguments to `fit()`, as they will be ignored.\n",
      "  self._warn_if_super_not_called()\n"
     ]
    },
    {
     "name": "stdout",
     "output_type": "stream",
     "text": [
      "Epoch 1/10\n",
      "\u001b[1m226/547\u001b[0m \u001b[32m━━━━━━━━\u001b[0m\u001b[37m━━━━━━━━━━━━\u001b[0m \u001b[1m3:19\u001b[0m 620ms/step - accuracy: 0.5543 - loss: 0.7534"
     ]
    },
    {
     "name": "stderr",
     "output_type": "stream",
     "text": [
      "C:\\Users\\MRINALI\\AppData\\Local\\Programs\\Python\\Python310\\lib\\site-packages\\PIL\\TiffImagePlugin.py:950: UserWarning: Truncated File Read\n",
      "  warnings.warn(str(msg))\n"
     ]
    },
    {
     "name": "stdout",
     "output_type": "stream",
     "text": [
      "\u001b[1m547/547\u001b[0m \u001b[32m━━━━━━━━━━━━━━━━━━━━\u001b[0m\u001b[37m\u001b[0m \u001b[1m357s\u001b[0m 647ms/step - accuracy: 0.6490 - loss: 0.6237 - val_accuracy: 0.7096 - val_loss: 0.5647\n",
      "Epoch 2/10\n",
      "\u001b[1m547/547\u001b[0m \u001b[32m━━━━━━━━━━━━━━━━━━━━\u001b[0m\u001b[37m\u001b[0m \u001b[1m342s\u001b[0m 624ms/step - accuracy: 0.7605 - loss: 0.4886 - val_accuracy: 0.7829 - val_loss: 0.4606\n",
      "Epoch 3/10\n",
      "\u001b[1m547/547\u001b[0m \u001b[32m━━━━━━━━━━━━━━━━━━━━\u001b[0m\u001b[37m\u001b[0m \u001b[1m339s\u001b[0m 619ms/step - accuracy: 0.8186 - loss: 0.3985 - val_accuracy: 0.8032 - val_loss: 0.4336\n",
      "Epoch 4/10\n",
      "\u001b[1m547/547\u001b[0m \u001b[32m━━━━━━━━━━━━━━━━━━━━\u001b[0m\u001b[37m\u001b[0m \u001b[1m337s\u001b[0m 616ms/step - accuracy: 0.8702 - loss: 0.3004 - val_accuracy: 0.8251 - val_loss: 0.4148\n",
      "Epoch 5/10\n",
      "\u001b[1m547/547\u001b[0m \u001b[32m━━━━━━━━━━━━━━━━━━━━\u001b[0m\u001b[37m\u001b[0m \u001b[1m335s\u001b[0m 612ms/step - accuracy: 0.9220 - loss: 0.1921 - val_accuracy: 0.8109 - val_loss: 0.4951\n",
      "Epoch 6/10\n",
      "\u001b[1m547/547\u001b[0m \u001b[32m━━━━━━━━━━━━━━━━━━━━\u001b[0m\u001b[37m\u001b[0m \u001b[1m395s\u001b[0m 635ms/step - accuracy: 0.9646 - loss: 0.0983 - val_accuracy: 0.8101 - val_loss: 0.6611\n",
      "Epoch 7/10\n",
      "\u001b[1m547/547\u001b[0m \u001b[32m━━━━━━━━━━━━━━━━━━━━\u001b[0m\u001b[37m\u001b[0m \u001b[1m345s\u001b[0m 630ms/step - accuracy: 0.9842 - loss: 0.0494 - val_accuracy: 0.8152 - val_loss: 0.7791\n",
      "Epoch 8/10\n",
      "\u001b[1m547/547\u001b[0m \u001b[32m━━━━━━━━━━━━━━━━━━━━\u001b[0m\u001b[37m\u001b[0m \u001b[1m340s\u001b[0m 622ms/step - accuracy: 0.9866 - loss: 0.0416 - val_accuracy: 0.8173 - val_loss: 0.9578\n",
      "Epoch 9/10\n",
      "\u001b[1m547/547\u001b[0m \u001b[32m━━━━━━━━━━━━━━━━━━━━\u001b[0m\u001b[37m\u001b[0m \u001b[1m344s\u001b[0m 629ms/step - accuracy: 0.9910 - loss: 0.0283 - val_accuracy: 0.8173 - val_loss: 0.9337\n",
      "Epoch 10/10\n",
      "\u001b[1m547/547\u001b[0m \u001b[32m━━━━━━━━━━━━━━━━━━━━\u001b[0m\u001b[37m\u001b[0m \u001b[1m341s\u001b[0m 622ms/step - accuracy: 0.9935 - loss: 0.0187 - val_accuracy: 0.8093 - val_loss: 1.2012\n"
     ]
    }
   ],
   "source": [
    "history = model.fit(\n",
    "    trainGenerator,\n",
    "    validation_data=valGenerator,\n",
    "    epochs=10\n",
    ")"
   ]
  },
  {
   "cell_type": "code",
   "execution_count": 15,
   "id": "e1f637b7-bac4-45ce-9e57-5f068a133eb0",
   "metadata": {},
   "outputs": [
    {
     "data": {
      "image/png": "[encoded data removed]",
      "text/plain": [
       "<Figure size 640x480 with 1 Axes>"
      ]
     },
     "metadata": {},
     "output_type": "display_data"
    },
    {
     "data": {
      "image/png": "[encoded data removed]",
      "text/plain": [
       "<Figure size 640x480 with 1 Axes>"
      ]
     },
     "metadata": {},
     "output_type": "display_data"
    }
   ],
   "source": [
    "# Accuracy plot\n",
    "plt.plot(history.history['accuracy'], label='Train Accuracy')\n",
    "plt.plot(history.history['val_accuracy'], label='Validation Accuracy')\n",
    "plt.title('Model Accuracy')\n",
    "plt.xlabel('Epoch')\n",
    "plt.ylabel('Accuracy')\n",
    "plt.legend()\n",
    "plt.show()\n",
    "\n",
    "# Loss plot\n",
    "plt.plot(history.history['loss'], label='Train Loss')\n",
    "plt.plot(history.history['val_loss'], label='Validation Loss')\n",
    "plt.title('Model Loss')\n",
    "plt.xlabel('Epoch')\n",
    "plt.ylabel('Loss')\n",
    "plt.legend()\n",
    "plt.show()"
   ]
  },
  {
   "cell_type": "code",
   "execution_count": 17,
   "id": "83f247b4-fcfe-4362-8aba-136c1cd8b1dc",
   "metadata": {},
   "outputs": [],
   "source": [
    "model.save(\"cat_dog_classifier.keras\")"
   ]
  },
  {
   "cell_type": "code",
   "execution_count": 19,
   "id": "b5935f88-7a93-4ffd-95ef-287a97bee3b5",
   "metadata": {},
   "outputs": [
    {
     "name": "stdout",
     "output_type": "stream",
     "text": [
      "\u001b[1m1/1\u001b[0m \u001b[32m━━━━━━━━━━━━━━━━━━━━\u001b[0m\u001b[37m\u001b[0m \u001b[1m2s\u001b[0m 2s/step\n",
      "Predicted class: Dog (1.0000)\n"
     ]
    }
   ],
   "source": [
    "import numpy as np\n",
    "from tensorflow.keras.preprocessing import image\n",
    "\n",
    "# Load and preprocess image\n",
    "img_path = \"C:\\\\Users\\\\MRINALI\\\\Downloads\\\\idk.jpg\"\n",
    "img = image.load_img(img_path, target_size=(150, 150))\n",
    "img_array = image.img_to_array(img)\n",
    "img_array = np.expand_dims(img_array, axis=0)\n",
    "img_array /= 255.0\n",
    "\n",
    "# Predict\n",
    "prediction = model.predict(img_array)\n",
    "class_label = \"Dog\" if prediction[0][0] > 0.5 else \"Cat\"\n",
    "print(f\"Predicted class: {class_label} ({prediction[0][0]:.4f})\")\n"
   ]
  },
  {
   "cell_type": "code",
   "execution_count": 20,
   "id": "6d5f9e0d-d29b-4c4d-8bd3-d6a7c57a2ff3",
   "metadata": {},
   "outputs": [
    {
     "name": "stdout",
     "output_type": "stream",
     "text": [
      "Collecting modal\n",
      "  Downloading modal-1.1.0-py3-none-any.whl (643 kB)\n",
      "     ---------------------------------------- 0.0/643.4 kB ? eta -:--:--\n",
      "     --- ----------------------------------- 51.2/643.4 kB 1.3 MB/s eta 0:00:01\n",
      "     ------- ------------------------------ 122.9/643.4 kB 1.4 MB/s eta 0:00:01\n",
      "     --------- ---------------------------- 163.8/643.4 kB 1.2 MB/s eta 0:00:01\n",
      "     ------------- ------------------------ 235.5/643.4 kB 1.3 MB/s eta 0:00:01\n",
      "     ----------------- -------------------- 297.0/643.4 kB 1.3 MB/s eta 0:00:01\n",
      "     --------------------- ---------------- 368.6/643.4 kB 1.3 MB/s eta 0:00:01\n",
      "     ------------------------ ------------- 409.6/643.4 kB 1.3 MB/s eta 0:00:01\n",
      "     ---------------------------- --------- 481.3/643.4 kB 1.3 MB/s eta 0:00:01\n",
      "     ------------------------------- ------ 532.5/643.4 kB 1.3 MB/s eta 0:00:01\n",
      "     ----------------------------------- -- 593.9/643.4 kB 1.3 MB/s eta 0:00:01\n",
      "     -------------------------------------  634.9/643.4 kB 1.3 MB/s eta 0:00:01\n",
      "     -------------------------------------  634.9/643.4 kB 1.3 MB/s eta 0:00:01\n",
      "     -------------------------------------- 643.4/643.4 kB 1.1 MB/s eta 0:00:00\n",
      "Requirement already satisfied: rich>=12.0.0 in c:\\users\\mrinali\\appdata\\local\\programs\\python\\python310\\lib\\site-packages (from modal) (14.1.0)\n",
      "Collecting grpclib<0.4.9,>=0.4.7\n",
      "  Downloading grpclib-0.4.8-py3-none-any.whl (76 kB)\n",
      "     ---------------------------------------- 0.0/76.3 kB ? eta -:--:--\n",
      "     -------------------- ----------------- 41.0/76.3 kB 991.0 kB/s eta 0:00:01\n",
      "     ---------------------------------------- 76.3/76.3 kB 1.0 MB/s eta 0:00:00\n",
      "Collecting types-toml\n",
      "  Downloading types_toml-0.10.8.20240310-py3-none-any.whl (4.8 kB)\n",
      "Collecting typer>=0.9\n",
      "  Downloading typer-0.16.0-py3-none-any.whl (46 kB)\n",
      "     ---------------------------------------- 0.0/46.3 kB ? eta -:--:--\n",
      "     ---------------------------------------- 46.3/46.3 kB 1.2 MB/s eta 0:00:00\n",
      "Collecting types-certifi\n",
      "  Downloading types_certifi-2021.10.8.3-py3-none-any.whl (2.1 kB)\n",
      "Collecting synchronicity~=0.10.1\n",
      "  Downloading synchronicity-0.10.1-py3-none-any.whl (38 kB)\n",
      "Collecting click~=8.1.0\n",
      "  Downloading click-8.1.8-py3-none-any.whl (98 kB)\n",
      "     ---------------------------------------- 0.0/98.2 kB ? eta -:--:--\n",
      "     ------------------------- -------------- 61.4/98.2 kB 1.6 MB/s eta 0:00:01\n",
      "     ---------------------------------------- 98.2/98.2 kB 1.4 MB/s eta 0:00:00\n",
      "Collecting toml\n",
      "  Downloading toml-0.10.2-py2.py3-none-any.whl (16 kB)\n",
      "Collecting watchfiles\n",
      "  Downloading watchfiles-1.1.0-cp310-cp310-win_amd64.whl (292 kB)\n",
      "     ---------------------------------------- 0.0/292.2 kB ? eta -:--:--\n",
      "     -------- ------------------------------ 61.4/292.2 kB 1.1 MB/s eta 0:00:01\n",
      "     --------------- ---------------------- 122.9/292.2 kB 1.2 MB/s eta 0:00:01\n",
      "     ---------------------- --------------- 174.1/292.2 kB 1.3 MB/s eta 0:00:01\n",
      "     ------------------------------- ------ 245.8/292.2 kB 1.4 MB/s eta 0:00:01\n",
      "     -------------------------------------  286.7/292.2 kB 1.3 MB/s eta 0:00:01\n",
      "     -------------------------------------  286.7/292.2 kB 1.3 MB/s eta 0:00:01\n",
      "     ------------------------------------ 292.2/292.2 kB 949.3 kB/s eta 0:00:00\n",
      "Requirement already satisfied: certifi in c:\\users\\mrinali\\appdata\\local\\programs\\python\\python310\\lib\\site-packages (from modal) (2025.7.14)\n",
      "Requirement already satisfied: typing_extensions~=4.6 in c:\\users\\mrinali\\appdata\\local\\programs\\python\\python310\\lib\\site-packages (from modal) (4.14.1)\n",
      "Collecting aiohttp\n",
      "  Downloading aiohttp-3.12.15-cp310-cp310-win_amd64.whl (452 kB)\n",
      "     ---------------------------------------- 0.0/452.3 kB ? eta -:--:--\n",
      "     ----- --------------------------------- 61.4/452.3 kB 1.7 MB/s eta 0:00:01\n",
      "     -------- ----------------------------- 102.4/452.3 kB 1.5 MB/s eta 0:00:01\n",
      "     -------------- ----------------------- 174.1/452.3 kB 1.3 MB/s eta 0:00:01\n",
      "     ------------------ ------------------- 225.3/452.3 kB 1.4 MB/s eta 0:00:01\n",
      "     ------------------------ ------------- 286.7/452.3 kB 1.3 MB/s eta 0:00:01\n",
      "     ----------------------------- -------- 348.2/452.3 kB 1.3 MB/s eta 0:00:01\n",
      "     ----------------------------------- -- 419.8/452.3 kB 1.3 MB/s eta 0:00:01\n",
      "     -------------------------------------  450.6/452.3 kB 1.3 MB/s eta 0:00:01\n",
      "     -------------------------------------- 452.3/452.3 kB 1.0 MB/s eta 0:00:00\n",
      "Requirement already satisfied: protobuf!=4.24.0,<7.0,>=3.19 in c:\\users\\mrinali\\appdata\\local\\programs\\python\\python310\\lib\\site-packages (from modal) (5.29.5)\n",
      "Requirement already satisfied: colorama in c:\\users\\mrinali\\appdata\\local\\programs\\python\\python310\\lib\\site-packages (from click~=8.1.0->modal) (0.4.6)\n",
      "Collecting multidict\n",
      "  Downloading multidict-6.6.3-cp310-cp310-win_amd64.whl (45 kB)\n",
      "     ---------------------------------------- 0.0/46.0 kB ? eta -:--:--\n",
      "     ---------------------------------------- 46.0/46.0 kB 1.2 MB/s eta 0:00:00\n",
      "Collecting h2<5,>=3.1.0\n",
      "  Downloading h2-4.2.0-py3-none-any.whl (60 kB)\n",
      "     ---------------------------------------- 0.0/61.0 kB ? eta -:--:--\n",
      "     -------------------------- ------------- 41.0/61.0 kB 1.9 MB/s eta 0:00:01\n",
      "     ---------------------------------------- 61.0/61.0 kB 1.1 MB/s eta 0:00:00\n",
      "Requirement already satisfied: markdown-it-py>=2.2.0 in c:\\users\\mrinali\\appdata\\local\\programs\\python\\python310\\lib\\site-packages (from rich>=12.0.0->modal) (3.0.0)\n",
      "Requirement already satisfied: pygments<3.0.0,>=2.13.0 in c:\\users\\mrinali\\appdata\\local\\programs\\python\\python310\\lib\\site-packages (from rich>=12.0.0->modal) (2.19.2)\n",
      "Collecting sigtools>=4.0.1\n",
      "  Downloading sigtools-4.0.1-py2.py3-none-any.whl (76 kB)\n",
      "     ---------------------------------------- 0.0/76.4 kB ? eta -:--:--\n",
      "     -------------------------------- ------- 61.4/76.4 kB 1.7 MB/s eta 0:00:01\n",
      "     ---------------------------------------- 76.4/76.4 kB 1.1 MB/s eta 0:00:00\n",
      "Collecting shellingham>=1.3.0\n",
      "  Downloading shellingham-1.5.4-py2.py3-none-any.whl (9.8 kB)\n",
      "Collecting aiosignal>=1.4.0\n",
      "  Downloading aiosignal-1.4.0-py3-none-any.whl (7.5 kB)\n",
      "Collecting yarl<2.0,>=1.17.0\n",
      "  Downloading yarl-1.20.1-cp310-cp310-win_amd64.whl (86 kB)\n",
      "     ---------------------------------------- 0.0/86.8 kB ? eta -:--:--\n",
      "     ---------------------------- ----------- 61.4/86.8 kB 1.6 MB/s eta 0:00:01\n",
      "     ------------------------------------- -- 81.9/86.8 kB 1.5 MB/s eta 0:00:01\n",
      "     -------------------------------------- 86.8/86.8 kB 612.6 kB/s eta 0:00:00\n",
      "Collecting propcache>=0.2.0\n",
      "  Downloading propcache-0.3.2-cp310-cp310-win_amd64.whl (41 kB)\n",
      "     ---------------------------------------- 0.0/41.5 kB ? eta -:--:--\n",
      "     ---------------------------------------- 41.5/41.5 kB 1.0 MB/s eta 0:00:00\n",
      "Collecting frozenlist>=1.1.1\n",
      "  Downloading frozenlist-1.7.0-cp310-cp310-win_amd64.whl (43 kB)\n",
      "     ---------------------------------------- 0.0/43.8 kB ? eta -:--:--\n",
      "     ------------------------------------- -- 41.0/43.8 kB 2.0 MB/s eta 0:00:01\n",
      "     ---------------------------------------- 43.8/43.8 kB 1.1 MB/s eta 0:00:00\n",
      "Collecting attrs>=17.3.0\n",
      "  Downloading attrs-25.3.0-py3-none-any.whl (63 kB)\n",
      "     ---------------------------------------- 0.0/63.8 kB ? eta -:--:--\n",
      "     -------------------------------------- - 61.4/63.8 kB 1.7 MB/s eta 0:00:01\n",
      "     ---------------------------------------- 63.8/63.8 kB 1.1 MB/s eta 0:00:00\n",
      "Collecting async-timeout<6.0,>=4.0\n",
      "  Downloading async_timeout-5.0.1-py3-none-any.whl (6.2 kB)\n",
      "Collecting aiohappyeyeballs>=2.5.0\n",
      "  Downloading aiohappyeyeballs-2.6.1-py3-none-any.whl (15 kB)\n",
      "Collecting anyio>=3.0.0\n",
      "  Downloading anyio-4.9.0-py3-none-any.whl (100 kB)\n",
      "     ---------------------------------------- 0.0/100.9 kB ? eta -:--:--\n",
      "     --------------- ----------------------- 41.0/100.9 kB 1.9 MB/s eta 0:00:01\n",
      "     ----------------------------------- --- 92.2/100.9 kB 1.3 MB/s eta 0:00:01\n",
      "     ----------------------------------- --- 92.2/100.9 kB 1.3 MB/s eta 0:00:01\n",
      "     ------------------------------------ 100.9/100.9 kB 643.1 kB/s eta 0:00:00\n",
      "Collecting sniffio>=1.1\n",
      "  Downloading sniffio-1.3.1-py3-none-any.whl (10 kB)\n",
      "Requirement already satisfied: idna>=2.8 in c:\\users\\mrinali\\appdata\\local\\programs\\python\\python310\\lib\\site-packages (from anyio>=3.0.0->watchfiles->modal) (3.10)\n",
      "Requirement already satisfied: exceptiongroup>=1.0.2 in c:\\users\\mrinali\\appdata\\local\\programs\\python\\python310\\lib\\site-packages (from anyio>=3.0.0->watchfiles->modal) (1.3.0)\n",
      "Collecting hpack<5,>=4.1\n",
      "  Downloading hpack-4.1.0-py3-none-any.whl (34 kB)\n",
      "Collecting hyperframe<7,>=6.1\n",
      "  Downloading hyperframe-6.1.0-py3-none-any.whl (13 kB)\n",
      "Requirement already satisfied: mdurl~=0.1 in c:\\users\\mrinali\\appdata\\local\\programs\\python\\python310\\lib\\site-packages (from markdown-it-py>=2.2.0->rich>=12.0.0->modal) (0.1.2)\n",
      "Installing collected packages: types-certifi, types-toml, toml, sniffio, shellingham, propcache, multidict, hyperframe, hpack, frozenlist, click, attrs, async-timeout, aiohappyeyeballs, yarl, sigtools, h2, anyio, aiosignal, watchfiles, typer, synchronicity, grpclib, aiohttp, modal\n",
      "Successfully installed aiohappyeyeballs-2.6.1 aiohttp-3.12.15 aiosignal-1.4.0 anyio-4.9.0 async-timeout-5.0.1 attrs-25.3.0 click-8.1.8 frozenlist-1.7.0 grpclib-0.4.8 h2-4.2.0 hpack-4.1.0 hyperframe-6.1.0 modal-1.1.0 multidict-6.6.3 propcache-0.3.2 shellingham-1.5.4 sigtools-4.0.1 sniffio-1.3.1 synchronicity-0.10.1 toml-0.10.2 typer-0.16.0 types-certifi-2021.10.8.3 types-toml-0.10.8.20240310 watchfiles-1.1.0 yarl-1.20.1\n",
      "Note: you may need to restart the kernel to use updated packages.\n"
     ]
    },
    {
     "name": "stderr",
     "output_type": "stream",
     "text": [
      "\n",
      "[notice] A new release of pip is available: 23.0.1 -> 25.1.1\n",
      "[notice] To update, run: C:\\Users\\MRINALI\\AppData\\Local\\Programs\\Python\\Python310\\python.exe -m pip install --upgrade pip\n"
     ]
    }
   ],
   "source": [
    "pip install modal"
   ]
  },
  {
   "cell_type": "code",
   "execution_count": 21,
   "id": "729bf482-8429-4ffc-a0c1-d3a8bcfe0453",
   "metadata": {},
   "outputs": [
    {
     "ename": "SyntaxError",
     "evalue": "invalid syntax (3191179069.py, line 1)",
     "output_type": "error",
     "traceback": [
      "\u001b[1;36m  Cell \u001b[1;32mIn[21], line 1\u001b[1;36m\u001b[0m\n\u001b[1;33m    modal token new\u001b[0m\n\u001b[1;37m          ^\u001b[0m\n\u001b[1;31mSyntaxError\u001b[0m\u001b[1;31m:\u001b[0m invalid syntax\n"
     ]
    }
   ],
   "source": [
    "modal token new"
   ]
  },
  {
   "cell_type": "code",
   "execution_count": null,
   "id": "c631c779-06aa-42a5-9560-1a533c3fe039",
   "metadata": {},
   "outputs": [],
   "source": []
  }
 ],
 "metadata": {
  "kernelspec": {
   "display_name": "AI",
   "language": "python",
   "name": "ai"
  },
  "language_info": {
   "codemirror_mode": {
    "name": "ipython",
    "version": 3
   },
   "file_extension": ".py",
   "mimetype": "text/x-python",
   "name": "python",
   "nbconvert_exporter": "python",
   "pygments_lexer": "ipython3",
   "version": "3.10.11"
  }
 },
 "nbformat": 4,
 "nbformat_minor": 5
}
